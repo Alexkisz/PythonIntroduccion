{
 "cells": [
  {
   "cell_type": "markdown",
   "id": "a5dc4e30",
   "metadata": {},
   "source": [
    "# Introducción a Python"
   ]
  },
  {
   "cell_type": "markdown",
   "id": "7a6ad179",
   "metadata": {},
   "source": [
    "## Introducción"
   ]
  },
  {
   "cell_type": "markdown",
   "id": "ef8746f5",
   "metadata": {},
   "source": [
    "\n",
    "Python es un lenguaje de programación interpretado, de alto nivel y con una sintaxis sencilla que favorece la legibilidad del código. Es utilizado en diversas áreas como desarrollo web, análisis de datos, inteligencia artificial y más."
   ]
  },
  {
   "cell_type": "markdown",
   "id": "4659d382",
   "metadata": {},
   "source": [
    "## Instalación de Python"
   ]
  },
  {
   "cell_type": "markdown",
   "id": "014b8e03",
   "metadata": {},
   "source": [
    "\n",
    "Para comenzar a programar en Python, es necesario instalar el intérprete de Python desde su página oficial (https://www.python.org/). También se recomienda el uso de un entorno de desarrollo como Visual Studio Code, PyCharm o Jupyter Notebook."
   ]
  },
  {
   "cell_type": "markdown",
   "id": "c06a354e",
   "metadata": {},
   "source": [
    "## Sintaxis Básica"
   ]
  },
  {
   "cell_type": "markdown",
   "id": "e9cd0e39",
   "metadata": {},
   "source": [
    "\n",
    "Python tiene una sintaxis simple y clara. A diferencia de otros lenguajes, no utiliza llaves `{}` para definir bloques de código, sino la indentación."
   ]
  },
  {
   "cell_type": "markdown",
   "id": "c3096331",
   "metadata": {},
   "source": [
    "## Operadores"
   ]
  },
  {
   "cell_type": "markdown",
   "id": "93de6ada",
   "metadata": {},
   "source": [
    "### Operadores Aritméticos en Python"
   ]
  },
  {
   "cell_type": "markdown",
   "id": "08dacc83",
   "metadata": {},
   "source": [
    "#### Suma (+)"
   ]
  },
  {
   "cell_type": "code",
   "execution_count": null,
   "id": "78325c0e",
   "metadata": {},
   "outputs": [],
   "source": [
    "resultado_suma = 10 + 5\n",
    "print('Suma: 10 + 5 =', resultado_suma)"
   ]
  },
  {
   "cell_type": "markdown",
   "id": "27f6e2be",
   "metadata": {},
   "source": [
    "#### Resta (-)"
   ]
  },
  {
   "cell_type": "code",
   "execution_count": null,
   "id": "bb15d514",
   "metadata": {},
   "outputs": [],
   "source": [
    "resultado_resta = 10 - 5\n",
    "print('Resta: 10 - 5 =', resultado_resta)"
   ]
  },
  {
   "cell_type": "markdown",
   "id": "67b099ca",
   "metadata": {},
   "source": [
    "#### Multiplicación (*)"
   ]
  },
  {
   "cell_type": "code",
   "execution_count": null,
   "id": "900e006c",
   "metadata": {},
   "outputs": [],
   "source": [
    "resultado_multiplicacion = 10 * 5\n",
    "print('Multiplicación: 10 * 5 =', resultado_multiplicacion)"
   ]
  },
  {
   "cell_type": "markdown",
   "id": "49d661de",
   "metadata": {},
   "source": [
    "#### División (/)"
   ]
  },
  {
   "cell_type": "code",
   "execution_count": null,
   "id": "92e634f8",
   "metadata": {},
   "outputs": [],
   "source": [
    "resultado_division = 10 / 3\n",
    "print('División: 10 / 3 =', resultado_division)"
   ]
  },
  {
   "cell_type": "markdown",
   "id": "90e2db93",
   "metadata": {},
   "source": [
    "#### División Entera (//)"
   ]
  },
  {
   "cell_type": "code",
   "execution_count": null,
   "id": "68e36e6a",
   "metadata": {},
   "outputs": [],
   "source": [
    "resultado_division_entera = 10 // 3\n",
    "print('División entera: 10 // 3 =', resultado_division_entera)"
   ]
  },
  {
   "cell_type": "markdown",
   "id": "90d34776",
   "metadata": {},
   "source": [
    "#### Módulo (%)"
   ]
  },
  {
   "cell_type": "code",
   "execution_count": null,
   "id": "398e70ad",
   "metadata": {},
   "outputs": [],
   "source": [
    "resultado_modulo = 10 % 3\n",
    "print('Módulo: 10 % 3 =', resultado_modulo)"
   ]
  },
  {
   "cell_type": "markdown",
   "id": "25c64564",
   "metadata": {},
   "source": [
    "#### Potencia (**)"
   ]
  },
  {
   "cell_type": "code",
   "execution_count": null,
   "id": "5ea48c62",
   "metadata": {},
   "outputs": [],
   "source": [
    "resultado_potencia = 2 ** 3\n",
    "print('Potencia: 2 ** 3 =', resultado_potencia)"
   ]
  },
  {
   "cell_type": "markdown",
   "id": "297e3beb",
   "metadata": {},
   "source": [
    "### Operadores de Comparación en Python"
   ]
  },
  {
   "cell_type": "markdown",
   "id": "8bb3a7d9",
   "metadata": {},
   "source": [
    "#### Igual (==)"
   ]
  },
  {
   "cell_type": "code",
   "execution_count": null,
   "id": "48b59574",
   "metadata": {},
   "outputs": [],
   "source": [
    "print(10 == 10)\n",
    "print(10 == 5)"
   ]
  },
  {
   "cell_type": "markdown",
   "id": "91e6e311",
   "metadata": {},
   "source": [
    "#### No Igual (!=)"
   ]
  },
  {
   "cell_type": "code",
   "execution_count": null,
   "id": "2352cf58",
   "metadata": {},
   "outputs": [],
   "source": [
    "print(10 != 5)\n",
    "print(10 != 10)"
   ]
  },
  {
   "cell_type": "markdown",
   "id": "92958725",
   "metadata": {},
   "source": [
    "#### Mayor que (>)"
   ]
  },
  {
   "cell_type": "code",
   "execution_count": null,
   "id": "5ddfc7cc",
   "metadata": {},
   "outputs": [],
   "source": [
    "print(10 > 5)\n",
    "print(5 > 10)"
   ]
  },
  {
   "cell_type": "markdown",
   "id": "62fe90b8",
   "metadata": {},
   "source": [
    "#### Menor o igual que (<=)"
   ]
  },
  {
   "cell_type": "code",
   "execution_count": null,
   "id": "35c2cbe6",
   "metadata": {},
   "outputs": [],
   "source": [
    "print(5 <= 10)\n",
    "print(10 <= 5)"
   ]
  },
  {
   "cell_type": "markdown",
   "id": "e1290fc1",
   "metadata": {},
   "source": [
    "### Operadores Lógicos en Python"
   ]
  },
  {
   "cell_type": "markdown",
   "id": "ba583023",
   "metadata": {},
   "source": [
    "#### Operador AND (and)"
   ]
  },
  {
   "cell_type": "code",
   "execution_count": null,
   "id": "5e394b56",
   "metadata": {},
   "outputs": [],
   "source": [
    "print(True and False)\n",
    "print(10 > 5 and 8 < 12)"
   ]
  },
  {
   "cell_type": "markdown",
   "id": "04b5ce49",
   "metadata": {},
   "source": [
    "#### Operador OR (or)"
   ]
  },
  {
   "cell_type": "code",
   "execution_count": null,
   "id": "dc6fc8e8",
   "metadata": {},
   "outputs": [],
   "source": [
    "print(True or False)\n",
    "print(10 < 5 or 8 < 12)"
   ]
  },
  {
   "cell_type": "markdown",
   "id": "4314128d",
   "metadata": {},
   "source": [
    "#### Operador NOT (not)"
   ]
  },
  {
   "cell_type": "code",
   "execution_count": null,
   "id": "2a949fe0",
   "metadata": {},
   "outputs": [],
   "source": [
    "print(not True)\n",
    "print(not (10 > 5))"
   ]
  },
  {
   "cell_type": "markdown",
   "id": "a4533691",
   "metadata": {},
   "source": [
    "## Comentarios en Python"
   ]
  },
  {
   "cell_type": "markdown",
   "id": "f7515ff3",
   "metadata": {},
   "source": [
    "### Comentario de una sola línea"
   ]
  },
  {
   "cell_type": "code",
   "execution_count": null,
   "id": "bfa20191",
   "metadata": {},
   "outputs": [],
   "source": [
    "# Esto es un comentario en Python que no afecta la ejecución del código."
   ]
  },
  {
   "cell_type": "markdown",
   "id": "85566ba3",
   "metadata": {},
   "source": [
    "### Comentario de varias líneas"
   ]
  },
  {
   "cell_type": "code",
   "execution_count": null,
   "id": "c9178097",
   "metadata": {},
   "outputs": [],
   "source": [
    "'''\n",
    "Comentario de varias líneas\n",
    "Este comentario puede ocupar varias líneas sin necesidad de poner '#'.\n",
    "'''"
   ]
  },
  {
   "cell_type": "markdown",
   "id": "cf89ccd2",
   "metadata": {},
   "source": [
    "## Tipos de Datos en Python"
   ]
  },
  {
   "cell_type": "markdown",
   "id": "fca54c99",
   "metadata": {},
   "source": [
    "### Números enteros (int)"
   ]
  },
  {
   "cell_type": "code",
   "execution_count": null,
   "id": "a75b00b1",
   "metadata": {},
   "outputs": [],
   "source": [
    "entero1 = 10\n",
    "entero2 = -5\n",
    "entero3 = 2024"
   ]
  },
  {
   "cell_type": "markdown",
   "id": "1ff65378",
   "metadata": {},
   "source": [
    "### Números flotantes (float)"
   ]
  },
  {
   "cell_type": "code",
   "execution_count": null,
   "id": "36bdf9ce",
   "metadata": {},
   "outputs": [],
   "source": [
    "flotante1 = 3.14\n",
    "flotante2 = -0.5\n",
    "flotante3 = 1.618"
   ]
  },
  {
   "cell_type": "markdown",
   "id": "bfa6e04b",
   "metadata": {},
   "source": [
    "### Booleanos (bool)"
   ]
  },
  {
   "cell_type": "code",
   "execution_count": null,
   "id": "cf7e275c",
   "metadata": {},
   "outputs": [],
   "source": [
    "booleano1 = True\n",
    "booleano2 = False\n",
    "booleano3 = 10 > 5"
   ]
  },
  {
   "cell_type": "markdown",
   "id": "7628f668",
   "metadata": {},
   "source": [
    "### Listas (list)"
   ]
  },
  {
   "cell_type": "code",
   "execution_count": null,
   "id": "5fa7fdea",
   "metadata": {},
   "outputs": [],
   "source": [
    "lista1 = [1, 2, 3, 4, 5]\n",
    "lista2 = [\"Python\", \"Java\", \"C++\"]\n",
    "lista3 = [True, 3.14, \"Texto\", [1, 2, 3]]"
   ]
  },
  {
   "cell_type": "markdown",
   "id": "6968f2df",
   "metadata": {},
   "source": [
    "### Tuplas (tuple)"
   ]
  },
  {
   "cell_type": "code",
   "execution_count": null,
   "id": "1a98db00",
   "metadata": {},
   "outputs": [],
   "source": [
    "tupla1 = (1, 2, 3)\n",
    "tupla2 = (\"a\", \"b\", \"c\")\n",
    "tupla3 = (True, False, 3.14)"
   ]
  },
  {
   "cell_type": "markdown",
   "id": "d87fce63",
   "metadata": {},
   "source": [
    "### Conjuntos (set)"
   ]
  },
  {
   "cell_type": "code",
   "execution_count": null,
   "id": "027e92a2",
   "metadata": {},
   "outputs": [],
   "source": [
    "conjunto1 = {1, 2, 3, 4, 5}\n",
    "conjunto2 = {\"rojo\", \"azul\", \"verde\"}\n",
    "conjunto3 = {10, 10, 20, 30}"
   ]
  },
  {
   "cell_type": "markdown",
   "id": "85b46568",
   "metadata": {},
   "source": [
    "### Diccionarios (dict)"
   ]
  },
  {
   "cell_type": "code",
   "execution_count": null,
   "id": "8270a769",
   "metadata": {},
   "outputs": [],
   "source": [
    "persona = {\"nombre\": \"Juan\", \"edad\": 30, \"ciudad\": \"Madrid\", \"profesion\": \"Ingeniero\", \"hobbies\": [\"leer\", \"correr\", \"viajar\"]}"
   ]
  },
  {
   "cell_type": "markdown",
   "id": "d450e997",
   "metadata": {},
   "source": [
    "## Acceso a cadenas"
   ]
  },
  {
   "cell_type": "markdown",
   "id": "cacdf7c4",
   "metadata": {},
   "source": [
    "### Por índice"
   ]
  },
  {
   "cell_type": "code",
   "execution_count": null,
   "id": "d6e53e3a",
   "metadata": {},
   "outputs": [],
   "source": [
    "texto = \"Python\"\n",
    "\n",
    "print(texto[0])  # 'P'\n",
    "print(texto[3])  # 'h'\n",
    "print(texto[-1]) # 'n'"
   ]
  },
  {
   "cell_type": "markdown",
   "id": "0a966105",
   "metadata": {},
   "source": [
    "### Slicing"
   ]
  },
  {
   "cell_type": "code",
   "execution_count": null,
   "id": "192cae7f",
   "metadata": {},
   "outputs": [],
   "source": [
    "texto = \"Programación\"\n",
    "print(texto[0:6])   # 'Progra' (desde 0 hasta 5)\n",
    "print(texto[:6])    # 'Progra' (desde el inicio hasta 5)\n",
    "print(texto[6:])    # 'mación' (desde 6 hasta el final)\n",
    "print(texto[::2])   # 'Pormcó' (salta cada 2 caracteres)\n",
    "print(texto[::-1])  # 'nóicamargorP' (invierte la cadena)"
   ]
  },
  {
   "cell_type": "markdown",
   "id": "8e9638c0",
   "metadata": {},
   "source": [
    "## Funciones de Cadenas"
   ]
  },
  {
   "cell_type": "markdown",
   "id": "6f0822a9",
   "metadata": {},
   "source": [
    "\n",
    "\n",
    "\n",
    "### `len()`: Obtener la longitud de una cadena\n",
    "```python\n",
    "texto = \"Hola Mundo\"\n",
    "print(len(texto))  # 10\n",
    "```\n",
    "\n",
    "### `find()`: Buscar una subcadena\n",
    "```python\n",
    "texto = \"Bienvenido a Python\"\n",
    "print(texto.find(\"Python\"))  # 13 (posición donde comienza \"Python\")\n",
    "print(texto.find(\"Java\"))    # -1 (si no se encuentra, devuelve -1)\n",
    "```\n",
    "\n",
    "### `replace()`: Reemplazar texto en una cadena\n",
    "```python\n",
    "texto = \"Me gusta Java\"\n",
    "nuevo_texto = texto.replace(\"Java\", \"Python\")\n",
    "print(nuevo_texto)  # 'Me gusta Python'\n",
    "```\n",
    "\n",
    "### `split()`: Dividir una cadena en palabras\n",
    "```python\n",
    "texto = \"Python es genial\"\n",
    "palabras = texto.split()\n",
    "print(palabras)  # ['Python', 'es', 'genial']\n",
    "\n",
    "frase = \"nombre,edad,ciudad\"\n",
    "datos = frase.split(\",\")\n",
    "print(datos)  # ['nombre', 'edad', 'ciudad']\n",
    "```\n",
    "\n",
    "### `upper()`, `lower()`, `capitalize()`, `title()`: Modificar el formato de una cadena\n",
    "```python\n",
    "texto = \"Python\"\n",
    "print(texto.upper())  # 'PYTHON' (todo en mayúsculas)\n",
    "print(texto.lower())  # 'python' (todo en minúsculas)\n",
    "print(texto.capitalize())  # 'Python' (primera letra en mayúscula)\n",
    "print(texto.title())  # 'Python Es Genial' (cada palabra con mayúscula)\n",
    "```\n",
    "\n",
    "### `startswith()`, `endswith()`: Verificar el inicio y fin de una cadena\n",
    "```python\n",
    "texto = \"Hola mundo\"\n",
    "print(texto.startswith(\"Hola\"))  # True\n",
    "print(texto.endswith(\"mundo\"))   # True\n",
    "```\n",
    "\n",
    "### `strip()`, `lstrip()`, `rstrip()`: Eliminar espacios en blanco\n",
    "```python\n",
    "texto = \"   Python   \"\n",
    "print(texto.strip())   # 'Python' (elimina espacios al inicio y final)\n",
    "print(texto.lstrip())  # 'Python   ' (elimina solo los de la izquierda)\n",
    "print(texto.rstrip())  # '   Python' (elimina solo los de la derecha)\n",
    "```\n",
    "\n",
    "### `join()`: Unir elementos de una lista en una sola cadena\n",
    "```python\n",
    "palabras = [\"Python\", \"es\", \"genial\"]\n",
    "frase = \" \".join(palabras)\n",
    "print(frase)  # 'Python es genial'\n",
    "```\n",
    "\n",
    "### `count()`: Contar la cantidad de veces que aparece un carácter\n",
    "```python\n",
    "texto = \"banana\"\n",
    "print(texto.count(\"a\"))  # 3 (cantidad de veces que aparece \"a\")\n",
    "```\n",
    "\n",
    "### `isdigit()`, `isalnum()`, `isalpha()`: Verificar si una cadena contiene solo números o letras\n",
    "```python\n",
    "print(\"12345\".isdigit())  # True (solo números)\n",
    "print(\"Python123\".isalnum())  # True (letras y números)\n",
    "print(\"Python\".isalpha())  # True (solo letras)\n",
    "```\n",
    "\n",
    "### `.format()`: Uso básico para formatear cadenas\n",
    "```python\n",
    "nombre = \"Carlos\"\n",
    "edad = 25\n",
    "ciudad = \"Madrid\"\n",
    "\n",
    "mensaje = \"Hola, mi nombre es {} y tengo {} años. Vivo en {}.\".format(nombre, edad, ciudad)\n",
    "print(mensaje)\n",
    "# Salida: Hola, mi nombre es Carlos y tengo 25 años. Vivo en Madrid.\n",
    "```\n",
    "\n",
    "### `.f-string`: Uso para formatear cadenas\n",
    "```python\n",
    "nombre = \"Carlos\"\n",
    "edad = 25\n",
    "ciudad = \"Madrid\"\n",
    "\n",
    "mensaje = f\"Hola, mi nombre es {nombre} y tengo {edad} años y vivo en {ciudad}.\"\n",
    "print(mensaje)\n",
    "# Salida: Hola, mi nombre es Carlos y tengo 25 años. Vivo en Madrid.\n",
    "```\n",
    "\n"
   ]
  },
  {
   "cell_type": "markdown",
   "id": "e1a68e52",
   "metadata": {},
   "source": [
    "\n",
    "## Caracteres especiales en Cadenas"
   ]
  },
  {
   "cell_type": "markdown",
   "id": "79279018",
   "metadata": {},
   "source": [
    "\n",
    "\n",
    "### Imprimir salto de línea y tabulación\n",
    "```python\n",
    "# Imprimir un salto de línea (\\n)\n",
    "print(\"Hola\\nMundo\")\n",
    "\n",
    "# Imprimir con tabulación (\\t)\n",
    "print(\"Nombre:\\tJuan\")\n",
    "print(\"Edad:\\t25\")\n",
    "```\n",
    "\n",
    "### Mostrar `\\` correctamente\n",
    "```python\n",
    "comilla = r\"home\\noscar\\documentos\\prueba.txt\"\n",
    "print(comilla)  # Muestra la ruta exactamente como está\n",
    "```"
   ]
  },
  {
   "cell_type": "markdown",
   "id": "46506f5f",
   "metadata": {},
   "source": [
    "\n",
    "## Funciones de Listas en Python"
   ]
  },
  {
   "cell_type": "markdown",
   "id": "53975af9",
   "metadata": {},
   "source": [
    "\n",
    "\n",
    "### Crear una lista inicial\n",
    "```python\n",
    "lista = [3, 1, 4, 1, 5, 9, 2]\n",
    "```\n",
    "\n",
    "### `append()`: Agregar un elemento al final\n",
    "```python\n",
    "lista.append(6)\n",
    "print(\"append(6):\", lista)  # [3, 1, 4, 1, 5, 9, 2, 6]\n",
    "```\n",
    "\n",
    "### `remove()`: Eliminar la primera aparición de un elemento\n",
    "```python\n",
    "lista.remove(1)  \n",
    "print(\"remove(1):\", lista)  # [3, 4, 1, 5, 9, 2, 6]\n",
    "```\n",
    "\n",
    "### `pop()`: Eliminar un elemento por su índice (por defecto, el último)\n",
    "```python\n",
    "elemento = lista.pop()\n",
    "print(\"pop():\", lista)  # [3, 4, 1, 5, 9, 2]\n",
    "print(\"Elemento eliminado:\", elemento)  # 6\n",
    "```\n",
    "\n",
    "### `sort()`: Ordenar la lista en orden ascendente\n",
    "```python\n",
    "lista.sort()\n",
    "print(\"sort():\", lista)  # [1, 2, 3, 4, 5, 9]\n",
    "```\n",
    "\n",
    "### `reverse()`: Invertir el orden de la lista\n",
    "```python\n",
    "lista.reverse()\n",
    "print(\"reverse():\", lista)  # [9, 5, 4, 3, 2, 1]\n",
    "```\n",
    "\n",
    "### `extend()`: Agregar múltiples elementos a la lista\n",
    "```python\n",
    "lista.extend([7, 8, 10])\n",
    "print(\"extend([7, 8, 10]):\", lista)  # [9, 5, 4, 3, 2, 1, 7, 8, 10]\n",
    "```\n",
    "\n",
    "### `insert()`: Insertar un elemento en una posición específica\n",
    "```python\n",
    "lista.insert(2, 100)\n",
    "print(\"insert(2, 100):\", lista)  # [9, 5, 100, 4, 3, 2, 1, 7, 8, 10]\n",
    "```\n",
    "\n",
    "### `index()`: Obtener el índice de un elemento\n",
    "```python\n",
    "indice = lista.index(100)\n",
    "print(\"index(100):\", indice)  # 2\n",
    "```\n",
    "\n",
    "### `count()`: Contar cuántas veces aparece un valor en la lista\n",
    "```python\n",
    "cantidad = lista.count(1)\n",
    "print(\"count(1):\", cantidad)  # 1\n",
    "```\n",
    "\n",
    "### `copy()`: Crear una copia de la lista\n",
    "```python\n",
    "lista_copia = lista.copy()\n",
    "print(\"copy():\", lista_copia)\n",
    "```\n",
    "\n",
    "### `clear()`: Vaciar la lista\n",
    "```python\n",
    "lista.clear()\n",
    "print(\"clear():\", lista)  # []\n",
    "```\n"
   ]
  },
  {
   "cell_type": "markdown",
   "id": "2ff90cae",
   "metadata": {},
   "source": [
    "## Acceso a Diccionarios"
   ]
  },
  {
   "cell_type": "markdown",
   "id": "975a8730",
   "metadata": {},
   "source": [
    "\n",
    "\n",
    "\n",
    "### Crear un diccionario inicial\n",
    "\n",
    "```python\n",
    "# Diccionario de ejemplo\n",
    "persona = {\n",
    "    \"nombre\": \"Juan\",\n",
    "    \"edad\": 30,\n",
    "    \"ciudad\": \"Madrid\"\n",
    "}\n",
    "\n",
    "```\n",
    "\n",
    "### `dict[key]`: Acceso directo\n",
    "```python\n",
    "\n",
    "# Acceso usando dict[key]\n",
    "nombre = persona[\"nombre\"]\n",
    "print(\"Acceso con dict[key]:\", nombre)  # 'Juan'\n",
    "\n",
    "# Intentar acceder a una clave inexistente con dict[key] (da error)\n",
    "# print(persona[\"pais\"])  # ❌ KeyError: 'pais'\n",
    "\n",
    "```\n",
    "\n",
    "\n",
    "\n",
    "### `get()`: Obtener un valor de manera segura\n",
    "```python\n",
    "# Acceso usando .get()\n",
    "edad = persona.get(\"edad\")\n",
    "print(\"Acceso con .get():\", edad)  # 30\n",
    "\n",
    "# Intentar acceder a una clave inexistente con .get() (devuelve None)\n",
    "pais = persona.get(\"pais\", \"No especificado\")  # Devuelve el valor por defecto si no existe\n",
    "print(\"Acceso con .get() a clave inexistente:\", pais)  # 'No especificado'\n",
    "```\n",
    "\n",
    "\n",
    "\n",
    "### `pop()`: Eliminar una clave y obtener su valor\n",
    "```python\n",
    "# Acceso usando .pop() (elimina la clave y devuelve su valor)\n",
    "ciudad = persona.pop(\"ciudad\")\n",
    "print(\"Acceso con .pop():\", ciudad)  # 'Madrid'\n",
    "\n",
    "```\n"
   ]
  },
  {
   "cell_type": "markdown",
   "id": "506fc0ad",
   "metadata": {},
   "source": [
    "## Funciones de conjuntos"
   ]
  },
  {
   "cell_type": "markdown",
   "id": "926733f4",
   "metadata": {},
   "source": [
    "\n",
    "\n",
    "### Creación de conjuntos\n",
    "\n",
    "```python\n",
    "conjunto_a = {1, 2, 3}\n",
    "conjunto_b = {3, 4, 5}\n",
    "\n",
    "print(\"Conjunto A:\", conjunto_a)\n",
    "print(\"Conjunto B:\", conjunto_b)\n",
    "```\n",
    "\n",
    "### `add()`: Agregar elementos a un conjunto\n",
    "\n",
    "```python\n",
    "conjunto_a.add(6)\n",
    "print(\"\\nDespués de agregar 6 a A:\", conjunto_a)\n",
    "```\n",
    "\n",
    "### `remove()`: Eliminar un elemento (lanza error si no existe)\n",
    "\n",
    "```python\n",
    "try:\n",
    "    conjunto_a.remove(2)\n",
    "    print(\"Después de eliminar 2 de A:\", conjunto_a)\n",
    "except KeyError:\n",
    "    print(\"Error: El elemento no está en el conjunto.\")\n",
    "```\n",
    "\n",
    "### `discard()`: Eliminar un elemento (sin error si no existe)\n",
    "\n",
    "```python\n",
    "conjunto_a.discard(10)  # No hará nada, pero tampoco dará error\n",
    "print(\"Después de intentar descartar 10 de A:\", conjunto_a)\n",
    "```\n",
    "\n",
    "### `pop()`: Eliminar un elemento arbitrario\n",
    "\n",
    "```python\n",
    "if conjunto_a:\n",
    "    elemento_removido = conjunto_a.pop()\n",
    "    print(f\"Elemento eliminado con pop: {elemento_removido}\")\n",
    "    print(\"Conjunto A después de pop:\", conjunto_a)\n",
    "else:\n",
    "    print(\"Conjunto vacío, no se puede hacer pop.\")\n",
    "```\n",
    "\n",
    "### `union()`: Unión de conjuntos\n",
    "\n",
    "```python\n",
    "union = conjunto_a.union(conjunto_b)\n",
    "print(\"\\nUnión de A y B:\", union)\n",
    "```\n",
    "\n",
    "### `intersection()`: Intersección de conjuntos\n",
    "\n",
    "```python\n",
    "interseccion = conjunto_a.intersection(conjunto_b)\n",
    "print(\"Intersección de A y B:\", interseccion)\n",
    "```\n",
    "\n",
    "### `difference()`: Diferencia de conjuntos\n",
    "\n",
    "```python\n",
    "diferencia = conjunto_a.difference(conjunto_b)\n",
    "print(\"Diferencia de A - B:\", diferencia)\n",
    "```\n",
    "\n",
    "### `symmetric_difference()`: Diferencia simétrica de conjuntos\n",
    "\n",
    "```python\n",
    "diferencia_simetrica = conjunto_a.symmetric_difference(conjunto_b)\n",
    "print(\"Diferencia simétrica de A y B:\", diferencia_simetrica)\n",
    "```\n",
    "\n",
    "### `issubset()`: Verificar si es subconjunto\n",
    "\n",
    "```python\n",
    "print(\"\\nA es subconjunto de B:\", conjunto_a.issubset(conjunto_b))\n",
    "```\n",
    "\n",
    "### `issuperset()`: Verificar si es superconjunto\n",
    "\n",
    "```python\n",
    "print(\"A es superconjunto de B:\", conjunto_a.issuperset(conjunto_b))\n",
    "```\n",
    "\n",
    "### `isdisjoint()`: Verificar si son disjuntos\n",
    "\n",
    "```python\n",
    "print(\"A y B son disjuntos:\", conjunto_a.isdisjoint(conjunto_b))\n",
    "```\n",
    "\n",
    "### `update()`: Actualizar un conjunto con la unión de otro\n",
    "\n",
    "```python\n",
    "conjunto_a.update(conjunto_b)\n",
    "print(\"\\nDespués de actualizar A con B (unión):\", conjunto_a)\n",
    "```\n",
    "\n",
    "### `intersection_update()`: Actualizar con la intersección\n",
    "\n",
    "```python\n",
    "conjunto_a = {1, 2, 3}\n",
    "conjunto_a.intersection_update(conjunto_b)\n",
    "print(\"Después de actualizar A con la intersección de B:\", conjunto_a)\n",
    "```\n",
    "\n",
    "### `difference_update()`: Actualizar con la diferencia\n",
    "\n",
    "```python\n",
    "conjunto_a = {1, 2, 3}\n",
    "conjunto_a.difference_update(conjunto_b)\n",
    "print(\"Después de actualizar A con la diferencia de B:\", conjunto_a)\n",
    "```\n",
    "\n",
    "### `symmetric_difference_update()`: Actualizar con diferencia simétrica\n",
    "\n",
    "```python\n",
    "conjunto_a = {1, 2, 3}\n",
    "conjunto_a.symmetric_difference_update(conjunto_b)\n",
    "print(\"Después de actualizar A con la diferencia simétrica de B:\", conjunto_a)\n",
    "```\n",
    "\n",
    "### `clear()`: Vaciar un conjunto\n",
    "\n",
    "```python\n",
    "conjunto_a.clear()\n",
    "print(\"\\nConjunto A después de clear():\", conjunto_a)\n",
    "```\n"
   ]
  },
  {
   "cell_type": "markdown",
   "id": "88805d0b",
   "metadata": {},
   "source": [
    "## Estructuras de control"
   ]
  },
  {
   "cell_type": "markdown",
   "id": "d7570579",
   "metadata": {},
   "source": [
    "### `while`: Repetir mientras la condición sea verdadera\n",
    "\n",
    "```python\n",
    "# Contador simple\n",
    "contador = 0\n",
    "while contador < 5:\n",
    "    print(\"Contador:\", contador)\n",
    "    contador += 1\n",
    "```\n"
   ]
  },
  {
   "cell_type": "markdown",
   "id": "1b74fd3c",
   "metadata": {},
   "source": [
    "\n",
    "### `for`: Iterar sobre secuencias de forma eficiente"
   ]
  },
  {
   "cell_type": "markdown",
   "id": "bcd56180",
   "metadata": {},
   "source": [
    "\n",
    "\n",
    "#### `for in`: Iterar sobre elementos de una colección\n",
    "\n",
    "```python\n",
    "for elemento in lista:\n",
    "    print(elemento)\n",
    "```\n",
    "\n",
    "#### `for range()`: Iterar un número específico de veces\n",
    "\n",
    "```python\n",
    "for i in range(5):\n",
    "    print(i)\n",
    "```\n",
    "\n",
    "#### `for enumerate()`: Obtener índice y valor al iterar\n",
    "\n",
    "```python\n",
    "for indice, valor in enumerate(lista):\n",
    "    print(f\"Índice: {indice}, Valor: {valor}\")\n",
    "```\n",
    "\n",
    "#### `for reversed()`: Iterar en orden inverso\n",
    "\n",
    "```python\n",
    "for elemento in reversed(lista):\n",
    "    print(elemento)\n",
    "```\n",
    "\n",
    "#### `for zip()`: Iterar sobre múltiples listas a la vez\n",
    "\n",
    "```python\n",
    "for a, b in zip(lista1, lista2):\n",
    "    print(f\"A: {a}, B: {b}\")\n",
    "```\n",
    "\n",
    "#### `for` con `else`: Ejecutar `else` si no se interrumpe el bucle\n",
    "\n",
    "```python\n",
    "for elemento in lista:\n",
    "    if elemento == \"detener\":\n",
    "        break\n",
    "else:\n",
    "    print(\"Se completó el bucle sin interrupciones\")\n",
    "```\n",
    "\n",
    "#### `for` con list comprehension: Crear listas de forma concisa\n",
    "\n",
    "```python\n",
    "cuadrados = [x**2 for x in range(5)]\n",
    "```\n",
    "\n",
    "#### `for` con dict comprehension: Crear diccionarios de forma concisa\n",
    "\n",
    "```python\n",
    "cuadrados = {x: x**2 for x in range(5)}\n",
    "```\n",
    "\n",
    "#### `for` con set comprehension: Crear conjuntos de forma concisa\n",
    "\n",
    "```python\n",
    "cuadrados = {x**2 for x in range(5)}\n",
    "```\n",
    "\n",
    "#### `for` anidados: Iterar con bucles anidados\n",
    "\n",
    "```python\n",
    "for i in range(3):\n",
    "    for j in range(2):\n",
    "        print(f\"i: {i}, j: {j}\")\n",
    "```\n",
    "\n",
    "\n"
   ]
  },
  {
   "cell_type": "markdown",
   "id": "a9c2a724",
   "metadata": {},
   "source": [
    "### `if-elif-else`: Tomar decisiones basadas en condiciones\n",
    "\n",
    "```python\n",
    "# Evaluar la temperatura\n",
    "temperatura = 25\n",
    "\n",
    "if temperatura > 30:\n",
    "    print(\"Hace mucho calor\")\n",
    "elif temperatura >= 20:\n",
    "    print(\"El clima es agradable\")\n",
    "else:\n",
    "    print(\"Hace frío\")\n",
    "```\n",
    "\n",
    "### `def`: Crear funciones para reutilizar código\n",
    "\n",
    "```python\n",
    "def calcular_cuadrado(numero):\n",
    "    return numero ** 2\n",
    "\n",
    "resultado = calcular_cuadrado(4)\n",
    "print(\"El cuadrado de 4 es:\", resultado)\n",
    "\n",
    "# Ejemplo con `continue` y `break` dentro de una función\n",
    "def mostrar_cuadrados():\n",
    "    for i in range(1, 6):\n",
    "        if i == 3:\n",
    "            continue  # Salta el número 3\n",
    "        if i == 5:\n",
    "            break  # Detiene el bucle al llegar a 5\n",
    "        print(f\"Cuadrado de {i}: {calcular_cuadrado(i)}\")\n",
    "\n",
    "mostrar_cuadrados()\n",
    "```\n",
    "\n"
   ]
  }
 ],
 "metadata": {
  "language_info": {
   "name": "python"
  }
 },
 "nbformat": 4,
 "nbformat_minor": 5
}
